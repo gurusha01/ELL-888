{
  "nbformat": 4,
  "nbformat_minor": 0,
  "metadata": {
    "colab": {
      "name": "Untitled9.ipynb",
      "provenance": []
    },
    "kernelspec": {
      "name": "python3",
      "display_name": "Python 3"
    },
    "language_info": {
      "name": "python"
    },
    "accelerator": "GPU"
  },
  "cells": [
    {
      "cell_type": "code",
      "execution_count": 1,
      "metadata": {
        "id": "HJeJ5CQR16Bx",
        "colab": {
          "base_uri": "https://localhost:8080/"
        },
        "outputId": "1a2e8872-8020-48af-d80d-9de2757a9603"
      },
      "outputs": [
        {
          "output_type": "stream",
          "name": "stdout",
          "text": [
            "[[  0.   0.   0.   0.   0.   0.   7.   2.   2.   7.   7.   0.   0.   0.\n",
            "    0.   0.   0.   0.   0.   0.   0.   0.   0.   3.   2.   3.   0.   0.\n",
            "    0.   0.]\n",
            " [  0.   0.   0.   0.   0.   0.   3.   2.   3.   7.   7.   0.   0.   0.\n",
            "    0.   0.   0.   0.   0.   0.   0.   0.   7.   3.   2.   2.   0.   0.\n",
            "    0.   0.]\n",
            " [  0.   0.   0.   0.   0.   7.   7.   2.   3.   7.   7.   0.   0.   0.\n",
            "    0.   0.   0.   3.  16.  21.   0.   0.   0.   3.   2.   3.   7.   0.\n",
            "    0.   0.]\n",
            " [  0.   0.   0.   0.   0.   7.   7.   2.   2.   7.   3.   0.   0.   0.\n",
            "    0.   0. 237.  15.   4.  25.   0.   0.   0.   3.   2.   3.   0.   0.\n",
            "    0.   0.]\n",
            " [  0.   0.   0.   0.   0.   7.   7.   2.   3.   7.   3.   0.   0.   0.\n",
            "    7.  20.   4. 241.  27.   7.   0.   0.   0.   3.   2.   2.   7.   0.\n",
            "    0.   0.]\n",
            " [  0.   0.   0.   0.   0.   0.   7.   2.   3.   7.   7.   0.   0.   3.\n",
            "   25.   4.   4.  13.  10.   0.   0.   0.   0.   3.   2.   2.   7.   0.\n",
            "    0.   0.]\n",
            " [  7.   0.   7.   7.   7.   7.   3.   2.   3.   7.   3.   7.   0.   9.\n",
            "    4.   4.   4.  24. 240.   0. 240.   7.   7.   3.   2.   2.   7.   0.\n",
            "    0.   7.]\n",
            " [  3.   3.   3.   3.   3.   3.   2.   9.   9.   2.   2.   3. 249.  16.\n",
            "    4.   4.  12.   3.   3.   3.   3.   3.   3.   2.   9.   9.   3.   3.\n",
            "    3.   3.]\n",
            " [  2.   2.   2.   2.   2.   2.   9.  24.  24.   9.   9.   2. 201.  15.\n",
            "   27.  17. 231.   2.   2.   2.   2.   2.   2.   9.  24.   9.   2.   2.\n",
            "    2.   2.]\n",
            " [  3.   3.   3.   2.   3.   3.   2.  24.   9.   2.   2.   2. 237. 241.\n",
            "   25.   6. 251. 225.   2.   3.   2.   3. 225.  10.   9.   9.   2.   3.\n",
            "    3.   3.]\n",
            " [  2.   2.   2.   3.   2.   2.   9.  24.  24.   2. 231.  21.  15. 223.\n",
            "    3.   3.   2. 249.   3. 249.   2. 225.   2.   9.   9.   9.   2.   2.\n",
            "    2.   2.]\n",
            " [  7.   7.   7.   7.   7.   7.   2.   9.   2. 245.   9.   4.   4.  17.\n",
            "  245.   7.   7.   7.   7.   7.   7.   7.   3.   2.   9.   2.   7.   7.\n",
            "    7.   7.]\n",
            " [  0.   0.   0.   0.   0.   0.   7.   2.   3.   7.  17.   4.   4.  18.\n",
            "    0.   0.   0.   0.  13.  17. 221.   0.   0.   3.   2.   3.   7.   0.\n",
            "    0.   0.]\n",
            " [  0.   0.   0.   0.   0.   0.   3.   2.   3.   0.  28.   4.   4.   9.\n",
            "    0.   0.  13.  13.  21.   4.   4.   4.   6.   3.   2.   3.   0.   0.\n",
            "    0.   0.]\n",
            " [  0.   0.   0.   0.   0.   0.   3.   2. 225.   9.  15.   4.  16.   3.\n",
            "    0.   2.  25. 241.   4.  15. 202.   4.  20.   3.   2.   3.   0.   0.\n",
            "    0.   0.]\n",
            " [  0.   0.   0.   0.   0.   0.   7. 218.   7.  22.   4. 219.  17.   0.\n",
            "    3.  26.   4.  15.  26.   2.   9.   4.  21.   3.   2.   3.   7.   0.\n",
            "    0.   0.]\n",
            " [  0.   0.   0.   0.   0.   0.   7.   2.  24.   4.   4.  17.   0.   6.\n",
            "   23.   4.  15.  33. 243.   2.  16.  15. 228.   3.   2.   3.   0.   0.\n",
            "    0.   0.]\n",
            " [  0.   0.   0.   0.   0.   0. 245.  22.  17.   4.   4.   0.   0.  27.\n",
            "    4. 241. 252.   0.  10.   4. 241. 237.   0.   3.   2.   3.   7.   0.\n",
            "    0.   0.]\n",
            " [  0.   0.   0.   0.   0.   0.   3.  22. 228.   4.  28.   0.   2. 233.\n",
            "    4.  22.   0.   3.  16.   4.  22.   0.   7.   3.   2.   3.   0.   0.\n",
            "    0.   0.]\n",
            " [  0.   0.   0.   0.   0.   0. 206.  22.  33.   4.  28.   0. 236.  16.\n",
            "    4.  26. 210.  15.  27. 245. 240.   0.   0.   3.   2.   3. 243.   0.\n",
            "    0.   0.]\n",
            " [  0.   0.   0.   0.   0. 243.   3.   2.  24.   4.   4.   2.  13. 241.\n",
            "    4. 244.   4. 210.   9.   0.   0.   0.   0.   3.   2.   3.   7.   0.\n",
            "    0.   0.]\n",
            " [  0.   0.   0.   0.   0.   0. 218. 252.   9. 244.  11.   4.   4.   4.\n",
            "  241.   4. 241.  17.   0.   0.   0.   0.   0.   3.   2. 225.   7.   0.\n",
            "    0.   0.]\n",
            " [  0.   0.   0.   0.   0.   0.   6.   2. 236.   9.  28.   4.   4.   4.\n",
            "   33.  22.  10.   0.   0.   0.   0.   0.   0.   3.   2.   3. 230.   0.\n",
            "    0.   0.]\n",
            " [  0.   0. 230.   7. 243. 243.   3.   2.   2.   7. 245.   0.   0.   0.\n",
            "    0.   7. 243. 254. 243. 240.   7.   0.   7.   3.   2.   2.   7. 240.\n",
            "  243. 240.]\n",
            " [  3.   3.   3.   3.   3.   3.   2.   9.   9.   2.   9.   3.   3.   3.\n",
            "    3.   3.   3.   3.   3.   3.   3.   3.   3.   2.   9.   9.   2.   3.\n",
            "  251.   3.]\n",
            " [  2.   2.   2.   2.   2.   2.   9.  24.  24.   9.   9.   2.   2.   2.\n",
            "    2.   2.   2.   2.   2.   2.   2.   2.   2.   9.  24.  24.  10.   2.\n",
            "    2.   2.]\n",
            " [  3.   3.   3.   3.   3.   3.   2.   9.   9.   2.   2.   3.   3.   3.\n",
            "    3.   3.   3.   3.   3.   3.   3.   3.   3. 252.   9.   9. 251.   3.\n",
            "    3.   3.]\n",
            " [  0.   0. 240.   0.   0.   7.   3.   2.   2.   7.   3.   7. 242. 243.\n",
            "  254. 243.   0.   0. 240. 240. 240.   0.   7.   3.   2.   2.   7.   0.\n",
            "    0.   7.]\n",
            " [  0.   0.   0.   0.   0.   0.   6.   2. 249.   7.   7.   0.   0.   0.\n",
            "    0.   0.   0.   0.   0.   0.   0.   0.   0.   3.   2.   2.   7.   0.\n",
            "    0.   0.]\n",
            " [  0.   0.   0.   0.   0. 243.   3.   2.   2.   7.   3.   0.   0.   0.\n",
            "    0.   0.   0.   0.   0.   0.   0.   0. 240.   3.   2.   2. 240.   0.\n",
            "    0.   0.]]\n"
          ]
        }
      ],
      "source": [
        "import math\n",
        "import numpy as np \n",
        "import matplotlib.pyplot as plt\n",
        "import torch\n",
        "import torch.nn as nn\n",
        "import torch.nn.functional as F\n",
        "import torchvision\n",
        "import PIL\n",
        "def load_image(path):\n",
        "  im_frame = PIL.Image.open(path)\n",
        "  im_frame=im_frame.resize((30,30))\n",
        "  np_frame = np.float32(im_frame)\n",
        "  print(np_frame)\n",
        "  return np_frame\n",
        "target=load_image(\"/content/6.png\")"
      ]
    },
    {
      "cell_type": "code",
      "source": [
        "def make_graph(np_image):\n",
        "  size=np_image.shape\n",
        "  #A=np.zeros((size[0]*size[0], size[0]*size[0]))\n",
        "  A=np.zeros((900,900))\n",
        "  for i in range(900):\n",
        "      A[i][i]=1\n",
        "      A[(i+1)%size[0]][i]=1\n",
        "      A[(i+1)%size[0]][(i+1)%size[0]]=1\n",
        "      A[(i+1)%size[0]][(i-1)%size[0]]=1\n",
        "      A[(i-1)%size[0]][i]=1\n",
        "      A[(i-1)%size[0]][(i+1)%size[0]]=1\n",
        "      A[(i-1)%size[0]][(i-1)%size[0]]=1\n",
        "      A[i][(i+1)%size[0]]=1\n",
        "      A[i][(i-1)%size[0]]=1\n",
        "\n",
        "  return A\n",
        "\n",
        "A_hat=make_graph(target)"
      ],
      "metadata": {
        "id": "eBLX1laGVjNf"
      },
      "execution_count": 2,
      "outputs": []
    },
    {
      "cell_type": "code",
      "source": [
        "class GNN_Single_Layer(nn.Module):\n",
        "  def __init__(self, c_in, c_out):\n",
        "    super(GNN_Single_Layer, self).__init__()\n",
        "    self.linear= nn.Linear(c_in, c_out,bias=False)   # y=x.WT+b \n",
        "    self.non_lin=nn.ReLU(inplace=True)\n",
        "  def forward(self, H, A_hat, W):\n",
        "    #print(\"H:\",H[0][0],\"W:\",W[0][0])\n",
        "    H_mod=self.linear(H.T)                          #H=(900x1) H.T=(1x900) H.T@W=(1x900)x()   torch.matmul(H.T,W.T)      \n",
        "    #print(\"H@W:\",H_mod[0][0])\n",
        "    H_mod=torch.bmm(H_mod[None,:], A_hat.T[None,:])\n",
        "    #print(\"A@H@W:\",H_mod[0][0][0])\n",
        "    H_mod=H_mod.T/9\n",
        "    #print(\"inv(D)@A@W:\", H_mod[0][0][0])\n",
        "    Z=self.non_lin(H_mod)\n",
        "    Z=nn.functional.normalize(Z,p=2,dim=0)\n",
        "    #print(\"Relu(AHW):\",Z[0][0])\n",
        "    return torch.squeeze(Z,-1)\n",
        "\n",
        "class GCN_multi_layer(nn.Module):\n",
        "  def __init__(self, c_in,c_out,num_layer):\n",
        "    super(GCN_multi_layer, self).__init__()\n",
        "    layers=[]\n",
        "    for i in range(num_layer):\n",
        "      layers+=[GNN_Single_Layer(c_in,c_out)]\n",
        "    self.layers=nn.ModuleList(layers)\n",
        "  def forward(self,X, A_hat, W, num_layers):\n",
        "    for i in range (num_layers):\n",
        "      X=self.layers[i](X, A_hat,W)\n",
        "    return X\n",
        "\n",
        "def train(X, Y, A, W, time, loss_fn, optimizer, epochs):\n",
        "  loss=0\n",
        "  for i in range(epochs):\n",
        "    optimizer.zero_grad()\n",
        "    output=model(X,A,W,time)\n",
        "    output=torch.squeeze(output, -1)\n",
        "    loss=loss_fn(output.squeeze(),Y)\n",
        "    loss_list.append(loss)\n",
        "    loss.backward()\n",
        "    optimizer.step()\n",
        "    with torch.no_grad():\n",
        "      for param in model.parameters():\n",
        "        param -= learning_rate * param.grad\n",
        "    #print(output[:5])\n",
        "  return loss,output\n",
        "\n",
        "X=torch.rand(900, 1).float()\n",
        "A=torch.from_numpy(A_hat).float()\n",
        "Y=nn.functional.normalize(torch.flatten(torch.from_numpy(target).float()), p=2, dim=0)\n",
        "model=GCN_multi_layer(900,900,100)\n",
        "W=torch.rand(900,900, requires_grad=True).float()\n",
        "time=100\n",
        "learning_rate=0.1\n",
        "loss_fn=nn.MSELoss()\n",
        "loss_list = []\n",
        "optimizer = torch.optim.SGD(model.parameters(), lr=0.001, momentum=0.9)\n",
        "epochs=2000\n",
        "model.train()\n",
        "loss,output=train(X, Y, A, W, time, loss_fn, optimizer, epochs)"
      ],
      "metadata": {
        "id": "1rVN8UnA-eyf"
      },
      "execution_count": null,
      "outputs": []
    },
    {
      "cell_type": "code",
      "source": [
        "step = np.linspace(0,epochs,epochs)\n",
        "plt.plot(step,torch.FloatTensor(loss_list).detach().numpy())"
      ],
      "metadata": {
        "id": "tsVZaiEEGWdw",
        "outputId": "843e7e45-a865-4b52-c2f4-50ea6b22c5dd",
        "colab": {
          "base_uri": "https://localhost:8080/",
          "height": 242
        }
      },
      "execution_count": 21,
      "outputs": [
        {
          "output_type": "execute_result",
          "data": {
            "text/plain": [
              "[<matplotlib.lines.Line2D at 0x7f153c55c690>]"
            ]
          },
          "metadata": {},
          "execution_count": 21
        },
        {
          "output_type": "display_data",
          "data": {
            "text/plain": [
              "<Figure size 216x216 with 1 Axes>"
            ],
            "image/png": "[encoded data removed]"
          },
          "metadata": {
            "needs_background": "light"
          }
        }
      ]
    },
    {
      "cell_type": "code",
      "source": [
        "from matplotlib import pyplot as plt\n",
        "import numpy as np\n",
        "\n",
        "# Set the figure size\n",
        "plt.rcParams[\"figure.figsize\"] = [3.00, 3.00]\n",
        "plt.rcParams[\"figure.autolayout\"] = True\n",
        "\n",
        "# Random data points\n",
        "initial=X.reshape(([30,30])).detach().numpy()\n",
        "final=output.reshape(([30,30]))\n",
        "final=final.detach().numpy()\n",
        "# Plot the data using imshow with gray colormap\n",
        "final2=Y.reshape(([30,30]))\n",
        "final2=final2.detach().numpy()\n",
        "plot0 = plt.figure(1)\n",
        "plt.imshow(initial, cmap='gray')\n",
        "plot1 = plt.figure(2)\n",
        "plt.imshow(final, cmap='gray')\n",
        "plot2 = plt.figure(3)\n",
        "plt.imshow(final2, cmap='gray')\n",
        "\n",
        "# Display the plot\n",
        "plt.show()"
      ],
      "metadata": {
        "id": "kPnOl60rLHmw",
        "outputId": "b718d59f-2297-460d-ee8e-325f4c9ad95e",
        "colab": {
          "base_uri": "https://localhost:8080/",
          "height": 641
        }
      },
      "execution_count": 22,
      "outputs": [
        {
          "output_type": "display_data",
          "data": {
            "text/plain": [
              "<Figure size 216x216 with 1 Axes>"
            ],
            "image/png": "[encoded data removed]"
          },
          "metadata": {
            "needs_background": "light"
          }
        },
        {
          "output_type": "display_data",
          "data": {
            "text/plain": [
              "<Figure size 216x216 with 1 Axes>"
            ],
            "image/png": "[encoded data removed]"
          },
          "metadata": {
            "needs_background": "light"
          }
        },
        {
          "output_type": "display_data",
          "data": {
            "text/plain": [
              "<Figure size 216x216 with 1 Axes>"
            ],
            "image/png": "[encoded data removed]"
          },
          "metadata": {
            "needs_background": "light"
          }
        }
      ]
    },
    {
      "cell_type": "code",
      "source": [
        "from PIL import Image as im\n",
        "final=Y.reshape(([30,30]))\n",
        "img2=im.fromarray(final.detach().numpy())\n",
        "img2=img2.convert('RGB')\n",
        "img2.save('/content/Y.png')"
      ],
      "metadata": {
        "id": "BR6nzz_TGtRM"
      },
      "execution_count": 10,
      "outputs": []
    }
  ]
}